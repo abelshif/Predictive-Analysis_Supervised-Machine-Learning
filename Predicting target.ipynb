{
 "cells": [
  {
   "cell_type": "markdown",
   "metadata": {},
   "source": [
    "# Importing useful libraries"
   ]
  },
  {
   "cell_type": "code",
   "execution_count": 58,
   "metadata": {},
   "outputs": [],
   "source": [
    "# Importing useful libraries\n",
    "import numpy as np\n",
    "import matplotlib.pyplot as plt\n",
    "import pandas as pd\n",
    "import seaborn as sns\n",
    "from sklearn.model_selection import train_test_split\n",
    "from sklearn.feature_selection import SelectKBest, chi2, f_classif, RFE\n",
    "from sklearn.ensemble import RandomForestClassifier\n",
    "from sklearn.metrics import mean_squared_error, r2_score, explained_variance_score\n",
    "from sklearn.preprocessing import RobustScaler\n",
    "import warnings"
   ]
  },
  {
   "cell_type": "markdown",
   "metadata": {},
   "source": [
    "# Data preparation\n"
   ]
  },
  {
   "cell_type": "code",
   "execution_count": null,
   "metadata": {},
   "outputs": [],
   "source": [
    "warnings.filterwarnings('ignore')"
   ]
  },
  {
   "cell_type": "code",
   "execution_count": 7,
   "metadata": {},
   "outputs": [],
   "source": [
    "# importing data\n",
    "data_path=\"./prediktiv_data.csv\"\n",
    "target_column = pd.read_csv(data_path, index_col='id')"
   ]
  },
  {
   "cell_type": "code",
   "execution_count": 8,
   "metadata": {},
   "outputs": [
    {
     "data": {
      "text/html": [
       "<div>\n",
       "<style scoped>\n",
       "    .dataframe tbody tr th:only-of-type {\n",
       "        vertical-align: middle;\n",
       "    }\n",
       "\n",
       "    .dataframe tbody tr th {\n",
       "        vertical-align: top;\n",
       "    }\n",
       "\n",
       "    .dataframe thead th {\n",
       "        text-align: right;\n",
       "    }\n",
       "</style>\n",
       "<table border=\"1\" class=\"dataframe\">\n",
       "  <thead>\n",
       "    <tr style=\"text-align: right;\">\n",
       "      <th></th>\n",
       "      <th>target</th>\n",
       "      <th>feature01</th>\n",
       "      <th>feature02</th>\n",
       "      <th>feature03</th>\n",
       "      <th>feature04</th>\n",
       "      <th>feature05</th>\n",
       "      <th>feature06</th>\n",
       "      <th>feature07</th>\n",
       "      <th>feature08</th>\n",
       "      <th>feature09</th>\n",
       "      <th>...</th>\n",
       "      <th>feature14</th>\n",
       "      <th>feature15</th>\n",
       "      <th>feature16</th>\n",
       "      <th>feature17</th>\n",
       "      <th>feature18</th>\n",
       "      <th>feature19</th>\n",
       "      <th>feature20</th>\n",
       "      <th>feature21</th>\n",
       "      <th>feature22</th>\n",
       "      <th>feature23</th>\n",
       "    </tr>\n",
       "    <tr>\n",
       "      <th>id</th>\n",
       "      <th></th>\n",
       "      <th></th>\n",
       "      <th></th>\n",
       "      <th></th>\n",
       "      <th></th>\n",
       "      <th></th>\n",
       "      <th></th>\n",
       "      <th></th>\n",
       "      <th></th>\n",
       "      <th></th>\n",
       "      <th></th>\n",
       "      <th></th>\n",
       "      <th></th>\n",
       "      <th></th>\n",
       "      <th></th>\n",
       "      <th></th>\n",
       "      <th></th>\n",
       "      <th></th>\n",
       "      <th></th>\n",
       "      <th></th>\n",
       "      <th></th>\n",
       "    </tr>\n",
       "  </thead>\n",
       "  <tbody>\n",
       "    <tr>\n",
       "      <th>1</th>\n",
       "      <td>215000</td>\n",
       "      <td>2.0</td>\n",
       "      <td>528.0</td>\n",
       "      <td>0</td>\n",
       "      <td>1080.0</td>\n",
       "      <td>1656</td>\n",
       "      <td>7</td>\n",
       "      <td>1656</td>\n",
       "      <td>6</td>\n",
       "      <td>5</td>\n",
       "      <td>...</td>\n",
       "      <td>2</td>\n",
       "      <td>good</td>\n",
       "      <td>bad</td>\n",
       "      <td>3</td>\n",
       "      <td>1</td>\n",
       "      <td>5</td>\n",
       "      <td>2010</td>\n",
       "      <td>0</td>\n",
       "      <td>0</td>\n",
       "      <td>1960</td>\n",
       "    </tr>\n",
       "    <tr>\n",
       "      <th>2</th>\n",
       "      <td>105000</td>\n",
       "      <td>1.0</td>\n",
       "      <td>730.0</td>\n",
       "      <td>0</td>\n",
       "      <td>882.0</td>\n",
       "      <td>896</td>\n",
       "      <td>5</td>\n",
       "      <td>896</td>\n",
       "      <td>5</td>\n",
       "      <td>6</td>\n",
       "      <td>...</td>\n",
       "      <td>0</td>\n",
       "      <td>NaN</td>\n",
       "      <td>bad</td>\n",
       "      <td>2</td>\n",
       "      <td>1</td>\n",
       "      <td>6</td>\n",
       "      <td>2010</td>\n",
       "      <td>0</td>\n",
       "      <td>0</td>\n",
       "      <td>1961</td>\n",
       "    </tr>\n",
       "    <tr>\n",
       "      <th>3</th>\n",
       "      <td>172000</td>\n",
       "      <td>1.0</td>\n",
       "      <td>312.0</td>\n",
       "      <td>0</td>\n",
       "      <td>1329.0</td>\n",
       "      <td>1329</td>\n",
       "      <td>6</td>\n",
       "      <td>1329</td>\n",
       "      <td>6</td>\n",
       "      <td>6</td>\n",
       "      <td>...</td>\n",
       "      <td>0</td>\n",
       "      <td>NaN</td>\n",
       "      <td>good</td>\n",
       "      <td>3</td>\n",
       "      <td>1</td>\n",
       "      <td>6</td>\n",
       "      <td>2010</td>\n",
       "      <td>1</td>\n",
       "      <td>0</td>\n",
       "      <td>1958</td>\n",
       "    </tr>\n",
       "    <tr>\n",
       "      <th>4</th>\n",
       "      <td>244000</td>\n",
       "      <td>2.0</td>\n",
       "      <td>522.0</td>\n",
       "      <td>0</td>\n",
       "      <td>2110.0</td>\n",
       "      <td>2110</td>\n",
       "      <td>8</td>\n",
       "      <td>2110</td>\n",
       "      <td>7</td>\n",
       "      <td>5</td>\n",
       "      <td>...</td>\n",
       "      <td>2</td>\n",
       "      <td>bad</td>\n",
       "      <td>amazing</td>\n",
       "      <td>3</td>\n",
       "      <td>1</td>\n",
       "      <td>4</td>\n",
       "      <td>2010</td>\n",
       "      <td>1</td>\n",
       "      <td>0</td>\n",
       "      <td>1968</td>\n",
       "    </tr>\n",
       "    <tr>\n",
       "      <th>5</th>\n",
       "      <td>189900</td>\n",
       "      <td>2.0</td>\n",
       "      <td>482.0</td>\n",
       "      <td>0</td>\n",
       "      <td>928.0</td>\n",
       "      <td>928</td>\n",
       "      <td>6</td>\n",
       "      <td>1629</td>\n",
       "      <td>5</td>\n",
       "      <td>5</td>\n",
       "      <td>...</td>\n",
       "      <td>1</td>\n",
       "      <td>bad</td>\n",
       "      <td>bad</td>\n",
       "      <td>3</td>\n",
       "      <td>1</td>\n",
       "      <td>3</td>\n",
       "      <td>2010</td>\n",
       "      <td>1</td>\n",
       "      <td>701</td>\n",
       "      <td>1998</td>\n",
       "    </tr>\n",
       "  </tbody>\n",
       "</table>\n",
       "<p>5 rows × 25 columns</p>\n",
       "</div>"
      ],
      "text/plain": [
       "    target  feature01  feature02  feature03  feature04  feature05  feature06  \\\n",
       "id                                                                             \n",
       "1   215000        2.0      528.0          0     1080.0       1656          7   \n",
       "2   105000        1.0      730.0          0      882.0        896          5   \n",
       "3   172000        1.0      312.0          0     1329.0       1329          6   \n",
       "4   244000        2.0      522.0          0     2110.0       2110          8   \n",
       "5   189900        2.0      482.0          0      928.0        928          6   \n",
       "\n",
       "    feature07  feature08  feature09  ...  feature14  feature15 feature16  \\\n",
       "id                                   ...                                   \n",
       "1        1656          6          5  ...          2       good       bad   \n",
       "2         896          5          6  ...          0        NaN       bad   \n",
       "3        1329          6          6  ...          0        NaN      good   \n",
       "4        2110          7          5  ...          2        bad   amazing   \n",
       "5        1629          5          5  ...          1        bad       bad   \n",
       "\n",
       "   feature17 feature18  feature19 feature20 feature21  feature22  feature23  \n",
       "id                                                                           \n",
       "1          3         1          5      2010         0          0       1960  \n",
       "2          2         1          6      2010         0          0       1961  \n",
       "3          3         1          6      2010         1          0       1958  \n",
       "4          3         1          4      2010         1          0       1968  \n",
       "5          3         1          3      2010         1        701       1998  \n",
       "\n",
       "[5 rows x 25 columns]"
      ]
     },
     "execution_count": 8,
     "metadata": {},
     "output_type": "execute_result"
    }
   ],
   "source": [
    "target_column.head()"
   ]
  },
  {
   "cell_type": "code",
   "execution_count": 9,
   "metadata": {},
   "outputs": [
    {
     "data": {
      "text/plain": [
       "(2930, 25)"
      ]
     },
     "execution_count": 9,
     "metadata": {},
     "output_type": "execute_result"
    }
   ],
   "source": [
    "# Number of rows(observations) & columns(features) in the data\n",
    "target_column.shape"
   ]
  },
  {
   "cell_type": "code",
   "execution_count": 10,
   "metadata": {},
   "outputs": [],
   "source": [
    "# number of NaN values\n",
    "nan_per_col = target_column.isna().sum()\n",
    "#print(nan_per_col)"
   ]
  },
  {
   "cell_type": "code",
   "execution_count": 11,
   "metadata": {},
   "outputs": [
    {
     "data": {
      "text/plain": [
       "feature01       1\n",
       "feature02       1\n",
       "feature04       1\n",
       "feature11    2732\n",
       "feature12    2358\n",
       "feature13       1\n",
       "feature15    1422\n",
       "dtype: int64"
      ]
     },
     "execution_count": 11,
     "metadata": {},
     "output_type": "execute_result"
    }
   ],
   "source": [
    "# Showing all variables with missing values\n",
    "nan_per_col[nan_per_col>0]"
   ]
  },
  {
   "cell_type": "code",
   "execution_count": 12,
   "metadata": {},
   "outputs": [],
   "source": [
    "# Deleting features with large missing values\n",
    "target_column.drop(nan_per_col[nan_per_col>1].index, axis=1, inplace=True)"
   ]
  },
  {
   "cell_type": "code",
   "execution_count": 13,
   "metadata": {},
   "outputs": [
    {
     "data": {
      "text/html": [
       "<div>\n",
       "<style scoped>\n",
       "    .dataframe tbody tr th:only-of-type {\n",
       "        vertical-align: middle;\n",
       "    }\n",
       "\n",
       "    .dataframe tbody tr th {\n",
       "        vertical-align: top;\n",
       "    }\n",
       "\n",
       "    .dataframe thead th {\n",
       "        text-align: right;\n",
       "    }\n",
       "</style>\n",
       "<table border=\"1\" class=\"dataframe\">\n",
       "  <thead>\n",
       "    <tr style=\"text-align: right;\">\n",
       "      <th></th>\n",
       "      <th>target</th>\n",
       "      <th>feature01</th>\n",
       "      <th>feature02</th>\n",
       "      <th>feature03</th>\n",
       "      <th>feature04</th>\n",
       "      <th>feature05</th>\n",
       "      <th>feature06</th>\n",
       "      <th>feature07</th>\n",
       "      <th>feature08</th>\n",
       "      <th>feature09</th>\n",
       "      <th>...</th>\n",
       "      <th>feature13</th>\n",
       "      <th>feature14</th>\n",
       "      <th>feature16</th>\n",
       "      <th>feature17</th>\n",
       "      <th>feature18</th>\n",
       "      <th>feature19</th>\n",
       "      <th>feature20</th>\n",
       "      <th>feature21</th>\n",
       "      <th>feature22</th>\n",
       "      <th>feature23</th>\n",
       "    </tr>\n",
       "    <tr>\n",
       "      <th>id</th>\n",
       "      <th></th>\n",
       "      <th></th>\n",
       "      <th></th>\n",
       "      <th></th>\n",
       "      <th></th>\n",
       "      <th></th>\n",
       "      <th></th>\n",
       "      <th></th>\n",
       "      <th></th>\n",
       "      <th></th>\n",
       "      <th></th>\n",
       "      <th></th>\n",
       "      <th></th>\n",
       "      <th></th>\n",
       "      <th></th>\n",
       "      <th></th>\n",
       "      <th></th>\n",
       "      <th></th>\n",
       "      <th></th>\n",
       "      <th></th>\n",
       "      <th></th>\n",
       "    </tr>\n",
       "  </thead>\n",
       "  <tbody>\n",
       "    <tr>\n",
       "      <th>1</th>\n",
       "      <td>215000</td>\n",
       "      <td>2.0</td>\n",
       "      <td>528.0</td>\n",
       "      <td>0</td>\n",
       "      <td>1080.0</td>\n",
       "      <td>1656</td>\n",
       "      <td>7</td>\n",
       "      <td>1656</td>\n",
       "      <td>6</td>\n",
       "      <td>5</td>\n",
       "      <td>...</td>\n",
       "      <td>red</td>\n",
       "      <td>2</td>\n",
       "      <td>bad</td>\n",
       "      <td>3</td>\n",
       "      <td>1</td>\n",
       "      <td>5</td>\n",
       "      <td>2010</td>\n",
       "      <td>0</td>\n",
       "      <td>0</td>\n",
       "      <td>1960</td>\n",
       "    </tr>\n",
       "    <tr>\n",
       "      <th>2</th>\n",
       "      <td>105000</td>\n",
       "      <td>1.0</td>\n",
       "      <td>730.0</td>\n",
       "      <td>0</td>\n",
       "      <td>882.0</td>\n",
       "      <td>896</td>\n",
       "      <td>5</td>\n",
       "      <td>896</td>\n",
       "      <td>5</td>\n",
       "      <td>6</td>\n",
       "      <td>...</td>\n",
       "      <td>red</td>\n",
       "      <td>0</td>\n",
       "      <td>bad</td>\n",
       "      <td>2</td>\n",
       "      <td>1</td>\n",
       "      <td>6</td>\n",
       "      <td>2010</td>\n",
       "      <td>0</td>\n",
       "      <td>0</td>\n",
       "      <td>1961</td>\n",
       "    </tr>\n",
       "    <tr>\n",
       "      <th>3</th>\n",
       "      <td>172000</td>\n",
       "      <td>1.0</td>\n",
       "      <td>312.0</td>\n",
       "      <td>0</td>\n",
       "      <td>1329.0</td>\n",
       "      <td>1329</td>\n",
       "      <td>6</td>\n",
       "      <td>1329</td>\n",
       "      <td>6</td>\n",
       "      <td>6</td>\n",
       "      <td>...</td>\n",
       "      <td>red</td>\n",
       "      <td>0</td>\n",
       "      <td>good</td>\n",
       "      <td>3</td>\n",
       "      <td>1</td>\n",
       "      <td>6</td>\n",
       "      <td>2010</td>\n",
       "      <td>1</td>\n",
       "      <td>0</td>\n",
       "      <td>1958</td>\n",
       "    </tr>\n",
       "    <tr>\n",
       "      <th>4</th>\n",
       "      <td>244000</td>\n",
       "      <td>2.0</td>\n",
       "      <td>522.0</td>\n",
       "      <td>0</td>\n",
       "      <td>2110.0</td>\n",
       "      <td>2110</td>\n",
       "      <td>8</td>\n",
       "      <td>2110</td>\n",
       "      <td>7</td>\n",
       "      <td>5</td>\n",
       "      <td>...</td>\n",
       "      <td>red</td>\n",
       "      <td>2</td>\n",
       "      <td>amazing</td>\n",
       "      <td>3</td>\n",
       "      <td>1</td>\n",
       "      <td>4</td>\n",
       "      <td>2010</td>\n",
       "      <td>1</td>\n",
       "      <td>0</td>\n",
       "      <td>1968</td>\n",
       "    </tr>\n",
       "    <tr>\n",
       "      <th>5</th>\n",
       "      <td>189900</td>\n",
       "      <td>2.0</td>\n",
       "      <td>482.0</td>\n",
       "      <td>0</td>\n",
       "      <td>928.0</td>\n",
       "      <td>928</td>\n",
       "      <td>6</td>\n",
       "      <td>1629</td>\n",
       "      <td>5</td>\n",
       "      <td>5</td>\n",
       "      <td>...</td>\n",
       "      <td>red</td>\n",
       "      <td>1</td>\n",
       "      <td>bad</td>\n",
       "      <td>3</td>\n",
       "      <td>1</td>\n",
       "      <td>3</td>\n",
       "      <td>2010</td>\n",
       "      <td>1</td>\n",
       "      <td>701</td>\n",
       "      <td>1998</td>\n",
       "    </tr>\n",
       "  </tbody>\n",
       "</table>\n",
       "<p>5 rows × 22 columns</p>\n",
       "</div>"
      ],
      "text/plain": [
       "    target  feature01  feature02  feature03  feature04  feature05  feature06  \\\n",
       "id                                                                             \n",
       "1   215000        2.0      528.0          0     1080.0       1656          7   \n",
       "2   105000        1.0      730.0          0      882.0        896          5   \n",
       "3   172000        1.0      312.0          0     1329.0       1329          6   \n",
       "4   244000        2.0      522.0          0     2110.0       2110          8   \n",
       "5   189900        2.0      482.0          0      928.0        928          6   \n",
       "\n",
       "    feature07  feature08  feature09  ...  feature13  feature14 feature16  \\\n",
       "id                                   ...                                   \n",
       "1        1656          6          5  ...        red          2       bad   \n",
       "2         896          5          6  ...        red          0       bad   \n",
       "3        1329          6          6  ...        red          0      good   \n",
       "4        2110          7          5  ...        red          2   amazing   \n",
       "5        1629          5          5  ...        red          1       bad   \n",
       "\n",
       "    feature17 feature18  feature19  feature20  feature21  feature22  feature23  \n",
       "id                                                                              \n",
       "1           3         1          5       2010          0          0       1960  \n",
       "2           2         1          6       2010          0          0       1961  \n",
       "3           3         1          6       2010          1          0       1958  \n",
       "4           3         1          4       2010          1          0       1968  \n",
       "5           3         1          3       2010          1        701       1998  \n",
       "\n",
       "[5 rows x 22 columns]"
      ]
     },
     "execution_count": 13,
     "metadata": {},
     "output_type": "execute_result"
    }
   ],
   "source": [
    "target_column.head()"
   ]
  },
  {
   "cell_type": "code",
   "execution_count": 14,
   "metadata": {},
   "outputs": [
    {
     "data": {
      "text/plain": [
       "(2930, 22)"
      ]
     },
     "execution_count": 14,
     "metadata": {},
     "output_type": "execute_result"
    }
   ],
   "source": [
    "target_column.shape"
   ]
  },
  {
   "cell_type": "code",
   "execution_count": 15,
   "metadata": {},
   "outputs": [
    {
     "data": {
      "text/plain": [
       "feature01    1\n",
       "feature02    1\n",
       "feature04    1\n",
       "feature13    1\n",
       "dtype: int64"
      ]
     },
     "execution_count": 15,
     "metadata": {},
     "output_type": "execute_result"
    }
   ],
   "source": [
    "nan_per_col = target_column.isna().sum()\n",
    "nan_per_col[nan_per_col>0]\n"
   ]
  },
  {
   "cell_type": "code",
   "execution_count": 16,
   "metadata": {},
   "outputs": [
    {
     "name": "stdout",
     "output_type": "stream",
     "text": [
      "float64\n",
      "float64\n",
      "float64\n",
      "object\n"
     ]
    }
   ],
   "source": [
    "print(target_column['feature01'].dtype)\n",
    "print(target_column['feature02'].dtype)\n",
    "print(target_column['feature04'].dtype)\n",
    "print(target_column['feature13'].dtype)"
   ]
  },
  {
   "cell_type": "code",
   "execution_count": 24,
   "metadata": {},
   "outputs": [
    {
     "name": "stderr",
     "output_type": "stream",
     "text": [
      "c:\\Users\\abels\\miniconda3\\lib\\site-packages\\seaborn\\distributions.py:2619: FutureWarning: `distplot` is a deprecated function and will be removed in a future version. Please adapt your code to use either `displot` (a figure-level function with similar flexibility) or `histplot` (an axes-level function for histograms).\n",
      "  warnings.warn(msg, FutureWarning)\n"
     ]
    },
    {
     "data": {
      "image/png": "[encoded data removed]",
      "text/plain": [
       "<Figure size 1152x504 with 2 Axes>"
      ]
     },
     "metadata": {
      "needs_background": "light"
     },
     "output_type": "display_data"
    }
   ],
   "source": [
    "#Using distribution plot and box plots to check for outliers\n",
    "fig, axes = plt.subplots(nrows=1, ncols=2, figsize=(16, 7))\n",
    "sns.distplot(ax=axes[0], a=target_column['target']);\n",
    "sns.boxplot(ax=axes[1], x=target_column['target']);"
   ]
  },
  {
   "cell_type": "markdown",
   "metadata": {},
   "source": [
    "The distribution plot above show skewness to the right meaning there are outliers and the box plot also reveals existence of ouliers to the right hence one considers replacement of small missing values with median for numerical features as mean is highly affected by outliers and mode value or most frequent value for catagorical features as follows."
   ]
  },
  {
   "cell_type": "code",
   "execution_count": 25,
   "metadata": {},
   "outputs": [],
   "source": [
    "# Replacing features with small missing values using median and mode values of the respective feature column\n",
    "target_column['feature01'] = target_column['feature01'].fillna(target_column['feature01'].median())\n",
    "target_column['feature02'] = target_column['feature02'].fillna(target_column['feature02'].median())\n",
    "target_column['feature04'] = target_column['feature04'].fillna(target_column['feature04'].median())\n",
    "target_column['feature13'] = target_column['feature13'].fillna(target_column['feature13'].mode()[0])"
   ]
  },
  {
   "cell_type": "code",
   "execution_count": 29,
   "metadata": {},
   "outputs": [
    {
     "name": "stdout",
     "output_type": "stream",
     "text": [
      "target         0\n",
      "feature01      0\n",
      "feature02      0\n",
      "feature03      0\n",
      "feature04      0\n",
      "feature05      0\n",
      "feature06      0\n",
      "feature07      0\n",
      "feature08      0\n",
      "feature09      0\n",
      "feature10      0\n",
      "feature10.1    0\n",
      "feature13      0\n",
      "feature14      0\n",
      "feature16      0\n",
      "feature17      0\n",
      "feature18      0\n",
      "feature19      0\n",
      "feature20      0\n",
      "feature21      0\n",
      "feature22      0\n",
      "feature23      0\n",
      "dtype: int64\n"
     ]
    }
   ],
   "source": [
    "# number of NaN values\n",
    "nan_per_col = target_column.isna().sum()\n",
    "print(nan_per_col)"
   ]
  },
  {
   "cell_type": "code",
   "execution_count": 30,
   "metadata": {},
   "outputs": [
    {
     "name": "stdout",
     "output_type": "stream",
     "text": [
      "<class 'pandas.core.frame.DataFrame'>\n",
      "Int64Index: 2930 entries, 1 to 2930\n",
      "Data columns (total 22 columns):\n",
      " #   Column       Non-Null Count  Dtype  \n",
      "---  ------       --------------  -----  \n",
      " 0   target       2930 non-null   int64  \n",
      " 1   feature01    2930 non-null   float64\n",
      " 2   feature02    2930 non-null   float64\n",
      " 3   feature03    2930 non-null   int64  \n",
      " 4   feature04    2930 non-null   float64\n",
      " 5   feature05    2930 non-null   int64  \n",
      " 6   feature06    2930 non-null   int64  \n",
      " 7   feature07    2930 non-null   int64  \n",
      " 8   feature08    2930 non-null   int64  \n",
      " 9   feature09    2930 non-null   int64  \n",
      " 10  feature10    2930 non-null   int64  \n",
      " 11  feature10.1  2930 non-null   int64  \n",
      " 12  feature13    2930 non-null   object \n",
      " 13  feature14    2930 non-null   int64  \n",
      " 14  feature16    2930 non-null   object \n",
      " 15  feature17    2930 non-null   int64  \n",
      " 16  feature18    2930 non-null   int64  \n",
      " 17  feature19    2930 non-null   int64  \n",
      " 18  feature20    2930 non-null   int64  \n",
      " 19  feature21    2930 non-null   int64  \n",
      " 20  feature22    2930 non-null   int64  \n",
      " 21  feature23    2930 non-null   int64  \n",
      "dtypes: float64(3), int64(17), object(2)\n",
      "memory usage: 526.5+ KB\n"
     ]
    }
   ],
   "source": [
    "target_column.info()"
   ]
  },
  {
   "cell_type": "markdown",
   "metadata": {},
   "source": [
    "## Transforming the catagorical features to dummy-variable format.\n"
   ]
  },
  {
   "cell_type": "code",
   "execution_count": 31,
   "metadata": {},
   "outputs": [
    {
     "name": "stdout",
     "output_type": "stream",
     "text": [
      "['red' 'blue' 'green' 'yellow' 'pink']\n",
      "['bad' 'good' 'amazing' 'okay' 'horrible']\n"
     ]
    }
   ],
   "source": [
    "print(target_column['feature13'].unique())\n",
    "print(target_column['feature16'].unique())\n"
   ]
  },
  {
   "cell_type": "code",
   "execution_count": 32,
   "metadata": {},
   "outputs": [],
   "source": [
    "target_column = pd.concat([target_column, pd.get_dummies(target_column['feature13'], prefix='feature13', drop_first=True)],axis=1)\n",
    "target_column = pd.concat([target_column, pd.get_dummies(target_column['feature16'], prefix='feature16', drop_first=True)],axis=1)\n",
    "target_column.drop(['feature13','feature16'], axis=1, inplace=True)"
   ]
  },
  {
   "cell_type": "code",
   "execution_count": 33,
   "metadata": {},
   "outputs": [
    {
     "data": {
      "text/html": [
       "<div>\n",
       "<style scoped>\n",
       "    .dataframe tbody tr th:only-of-type {\n",
       "        vertical-align: middle;\n",
       "    }\n",
       "\n",
       "    .dataframe tbody tr th {\n",
       "        vertical-align: top;\n",
       "    }\n",
       "\n",
       "    .dataframe thead th {\n",
       "        text-align: right;\n",
       "    }\n",
       "</style>\n",
       "<table border=\"1\" class=\"dataframe\">\n",
       "  <thead>\n",
       "    <tr style=\"text-align: right;\">\n",
       "      <th></th>\n",
       "      <th>target</th>\n",
       "      <th>feature01</th>\n",
       "      <th>feature02</th>\n",
       "      <th>feature03</th>\n",
       "      <th>feature04</th>\n",
       "      <th>feature05</th>\n",
       "      <th>feature06</th>\n",
       "      <th>feature07</th>\n",
       "      <th>feature08</th>\n",
       "      <th>feature09</th>\n",
       "      <th>...</th>\n",
       "      <th>feature22</th>\n",
       "      <th>feature23</th>\n",
       "      <th>feature13_green</th>\n",
       "      <th>feature13_pink</th>\n",
       "      <th>feature13_red</th>\n",
       "      <th>feature13_yellow</th>\n",
       "      <th>feature16_bad</th>\n",
       "      <th>feature16_good</th>\n",
       "      <th>feature16_horrible</th>\n",
       "      <th>feature16_okay</th>\n",
       "    </tr>\n",
       "    <tr>\n",
       "      <th>id</th>\n",
       "      <th></th>\n",
       "      <th></th>\n",
       "      <th></th>\n",
       "      <th></th>\n",
       "      <th></th>\n",
       "      <th></th>\n",
       "      <th></th>\n",
       "      <th></th>\n",
       "      <th></th>\n",
       "      <th></th>\n",
       "      <th></th>\n",
       "      <th></th>\n",
       "      <th></th>\n",
       "      <th></th>\n",
       "      <th></th>\n",
       "      <th></th>\n",
       "      <th></th>\n",
       "      <th></th>\n",
       "      <th></th>\n",
       "      <th></th>\n",
       "      <th></th>\n",
       "    </tr>\n",
       "  </thead>\n",
       "  <tbody>\n",
       "    <tr>\n",
       "      <th>1</th>\n",
       "      <td>215000</td>\n",
       "      <td>2.0</td>\n",
       "      <td>528.0</td>\n",
       "      <td>0</td>\n",
       "      <td>1080.0</td>\n",
       "      <td>1656</td>\n",
       "      <td>7</td>\n",
       "      <td>1656</td>\n",
       "      <td>6</td>\n",
       "      <td>5</td>\n",
       "      <td>...</td>\n",
       "      <td>0</td>\n",
       "      <td>1960</td>\n",
       "      <td>0</td>\n",
       "      <td>0</td>\n",
       "      <td>1</td>\n",
       "      <td>0</td>\n",
       "      <td>1</td>\n",
       "      <td>0</td>\n",
       "      <td>0</td>\n",
       "      <td>0</td>\n",
       "    </tr>\n",
       "    <tr>\n",
       "      <th>2</th>\n",
       "      <td>105000</td>\n",
       "      <td>1.0</td>\n",
       "      <td>730.0</td>\n",
       "      <td>0</td>\n",
       "      <td>882.0</td>\n",
       "      <td>896</td>\n",
       "      <td>5</td>\n",
       "      <td>896</td>\n",
       "      <td>5</td>\n",
       "      <td>6</td>\n",
       "      <td>...</td>\n",
       "      <td>0</td>\n",
       "      <td>1961</td>\n",
       "      <td>0</td>\n",
       "      <td>0</td>\n",
       "      <td>1</td>\n",
       "      <td>0</td>\n",
       "      <td>1</td>\n",
       "      <td>0</td>\n",
       "      <td>0</td>\n",
       "      <td>0</td>\n",
       "    </tr>\n",
       "    <tr>\n",
       "      <th>3</th>\n",
       "      <td>172000</td>\n",
       "      <td>1.0</td>\n",
       "      <td>312.0</td>\n",
       "      <td>0</td>\n",
       "      <td>1329.0</td>\n",
       "      <td>1329</td>\n",
       "      <td>6</td>\n",
       "      <td>1329</td>\n",
       "      <td>6</td>\n",
       "      <td>6</td>\n",
       "      <td>...</td>\n",
       "      <td>0</td>\n",
       "      <td>1958</td>\n",
       "      <td>0</td>\n",
       "      <td>0</td>\n",
       "      <td>1</td>\n",
       "      <td>0</td>\n",
       "      <td>0</td>\n",
       "      <td>1</td>\n",
       "      <td>0</td>\n",
       "      <td>0</td>\n",
       "    </tr>\n",
       "    <tr>\n",
       "      <th>4</th>\n",
       "      <td>244000</td>\n",
       "      <td>2.0</td>\n",
       "      <td>522.0</td>\n",
       "      <td>0</td>\n",
       "      <td>2110.0</td>\n",
       "      <td>2110</td>\n",
       "      <td>8</td>\n",
       "      <td>2110</td>\n",
       "      <td>7</td>\n",
       "      <td>5</td>\n",
       "      <td>...</td>\n",
       "      <td>0</td>\n",
       "      <td>1968</td>\n",
       "      <td>0</td>\n",
       "      <td>0</td>\n",
       "      <td>1</td>\n",
       "      <td>0</td>\n",
       "      <td>0</td>\n",
       "      <td>0</td>\n",
       "      <td>0</td>\n",
       "      <td>0</td>\n",
       "    </tr>\n",
       "    <tr>\n",
       "      <th>5</th>\n",
       "      <td>189900</td>\n",
       "      <td>2.0</td>\n",
       "      <td>482.0</td>\n",
       "      <td>0</td>\n",
       "      <td>928.0</td>\n",
       "      <td>928</td>\n",
       "      <td>6</td>\n",
       "      <td>1629</td>\n",
       "      <td>5</td>\n",
       "      <td>5</td>\n",
       "      <td>...</td>\n",
       "      <td>701</td>\n",
       "      <td>1998</td>\n",
       "      <td>0</td>\n",
       "      <td>0</td>\n",
       "      <td>1</td>\n",
       "      <td>0</td>\n",
       "      <td>1</td>\n",
       "      <td>0</td>\n",
       "      <td>0</td>\n",
       "      <td>0</td>\n",
       "    </tr>\n",
       "  </tbody>\n",
       "</table>\n",
       "<p>5 rows × 28 columns</p>\n",
       "</div>"
      ],
      "text/plain": [
       "    target  feature01  feature02  feature03  feature04  feature05  feature06  \\\n",
       "id                                                                             \n",
       "1   215000        2.0      528.0          0     1080.0       1656          7   \n",
       "2   105000        1.0      730.0          0      882.0        896          5   \n",
       "3   172000        1.0      312.0          0     1329.0       1329          6   \n",
       "4   244000        2.0      522.0          0     2110.0       2110          8   \n",
       "5   189900        2.0      482.0          0      928.0        928          6   \n",
       "\n",
       "    feature07  feature08  feature09  ...  feature22  feature23  \\\n",
       "id                                   ...                         \n",
       "1        1656          6          5  ...          0       1960   \n",
       "2         896          5          6  ...          0       1961   \n",
       "3        1329          6          6  ...          0       1958   \n",
       "4        2110          7          5  ...          0       1968   \n",
       "5        1629          5          5  ...        701       1998   \n",
       "\n",
       "    feature13_green  feature13_pink  feature13_red  feature13_yellow  \\\n",
       "id                                                                     \n",
       "1                 0               0              1                 0   \n",
       "2                 0               0              1                 0   \n",
       "3                 0               0              1                 0   \n",
       "4                 0               0              1                 0   \n",
       "5                 0               0              1                 0   \n",
       "\n",
       "    feature16_bad  feature16_good  feature16_horrible  feature16_okay  \n",
       "id                                                                     \n",
       "1               1               0                   0               0  \n",
       "2               1               0                   0               0  \n",
       "3               0               1                   0               0  \n",
       "4               0               0                   0               0  \n",
       "5               1               0                   0               0  \n",
       "\n",
       "[5 rows x 28 columns]"
      ]
     },
     "execution_count": 33,
     "metadata": {},
     "output_type": "execute_result"
    }
   ],
   "source": [
    "target_column.head()"
   ]
  },
  {
   "cell_type": "code",
   "execution_count": 34,
   "metadata": {},
   "outputs": [
    {
     "data": {
      "text/plain": [
       "(2930, 28)"
      ]
     },
     "execution_count": 34,
     "metadata": {},
     "output_type": "execute_result"
    }
   ],
   "source": [
    "target_column.shape"
   ]
  },
  {
   "cell_type": "markdown",
   "metadata": {},
   "source": [
    "## Using feature engineering for better prediction of the target"
   ]
  },
  {
   "cell_type": "code",
   "execution_count": 35,
   "metadata": {},
   "outputs": [
    {
     "data": {
      "image/png": "[encoded data removed]",
      "text/plain": [
       "<Figure size 432x288 with 1 Axes>"
      ]
     },
     "metadata": {
      "needs_background": "light"
     },
     "output_type": "display_data"
    }
   ],
   "source": [
    "target_column.plot.scatter(x='feature07', y='target', s=1);"
   ]
  },
  {
   "cell_type": "code",
   "execution_count": 36,
   "metadata": {},
   "outputs": [],
   "source": [
    "target_column['feature07_squared'] = target_column['feature07']**2"
   ]
  },
  {
   "cell_type": "code",
   "execution_count": 37,
   "metadata": {},
   "outputs": [
    {
     "data": {
      "text/html": [
       "<div>\n",
       "<style scoped>\n",
       "    .dataframe tbody tr th:only-of-type {\n",
       "        vertical-align: middle;\n",
       "    }\n",
       "\n",
       "    .dataframe tbody tr th {\n",
       "        vertical-align: top;\n",
       "    }\n",
       "\n",
       "    .dataframe thead th {\n",
       "        text-align: right;\n",
       "    }\n",
       "</style>\n",
       "<table border=\"1\" class=\"dataframe\">\n",
       "  <thead>\n",
       "    <tr style=\"text-align: right;\">\n",
       "      <th></th>\n",
       "      <th>target</th>\n",
       "      <th>feature01</th>\n",
       "      <th>feature02</th>\n",
       "      <th>feature03</th>\n",
       "      <th>feature04</th>\n",
       "      <th>feature05</th>\n",
       "      <th>feature06</th>\n",
       "      <th>feature07</th>\n",
       "      <th>feature08</th>\n",
       "      <th>feature09</th>\n",
       "      <th>...</th>\n",
       "      <th>feature23</th>\n",
       "      <th>feature13_green</th>\n",
       "      <th>feature13_pink</th>\n",
       "      <th>feature13_red</th>\n",
       "      <th>feature13_yellow</th>\n",
       "      <th>feature16_bad</th>\n",
       "      <th>feature16_good</th>\n",
       "      <th>feature16_horrible</th>\n",
       "      <th>feature16_okay</th>\n",
       "      <th>feature07_squared</th>\n",
       "    </tr>\n",
       "    <tr>\n",
       "      <th>id</th>\n",
       "      <th></th>\n",
       "      <th></th>\n",
       "      <th></th>\n",
       "      <th></th>\n",
       "      <th></th>\n",
       "      <th></th>\n",
       "      <th></th>\n",
       "      <th></th>\n",
       "      <th></th>\n",
       "      <th></th>\n",
       "      <th></th>\n",
       "      <th></th>\n",
       "      <th></th>\n",
       "      <th></th>\n",
       "      <th></th>\n",
       "      <th></th>\n",
       "      <th></th>\n",
       "      <th></th>\n",
       "      <th></th>\n",
       "      <th></th>\n",
       "      <th></th>\n",
       "    </tr>\n",
       "  </thead>\n",
       "  <tbody>\n",
       "    <tr>\n",
       "      <th>1</th>\n",
       "      <td>215000</td>\n",
       "      <td>2.0</td>\n",
       "      <td>528.0</td>\n",
       "      <td>0</td>\n",
       "      <td>1080.0</td>\n",
       "      <td>1656</td>\n",
       "      <td>7</td>\n",
       "      <td>1656</td>\n",
       "      <td>6</td>\n",
       "      <td>5</td>\n",
       "      <td>...</td>\n",
       "      <td>1960</td>\n",
       "      <td>0</td>\n",
       "      <td>0</td>\n",
       "      <td>1</td>\n",
       "      <td>0</td>\n",
       "      <td>1</td>\n",
       "      <td>0</td>\n",
       "      <td>0</td>\n",
       "      <td>0</td>\n",
       "      <td>2742336</td>\n",
       "    </tr>\n",
       "    <tr>\n",
       "      <th>2</th>\n",
       "      <td>105000</td>\n",
       "      <td>1.0</td>\n",
       "      <td>730.0</td>\n",
       "      <td>0</td>\n",
       "      <td>882.0</td>\n",
       "      <td>896</td>\n",
       "      <td>5</td>\n",
       "      <td>896</td>\n",
       "      <td>5</td>\n",
       "      <td>6</td>\n",
       "      <td>...</td>\n",
       "      <td>1961</td>\n",
       "      <td>0</td>\n",
       "      <td>0</td>\n",
       "      <td>1</td>\n",
       "      <td>0</td>\n",
       "      <td>1</td>\n",
       "      <td>0</td>\n",
       "      <td>0</td>\n",
       "      <td>0</td>\n",
       "      <td>802816</td>\n",
       "    </tr>\n",
       "    <tr>\n",
       "      <th>3</th>\n",
       "      <td>172000</td>\n",
       "      <td>1.0</td>\n",
       "      <td>312.0</td>\n",
       "      <td>0</td>\n",
       "      <td>1329.0</td>\n",
       "      <td>1329</td>\n",
       "      <td>6</td>\n",
       "      <td>1329</td>\n",
       "      <td>6</td>\n",
       "      <td>6</td>\n",
       "      <td>...</td>\n",
       "      <td>1958</td>\n",
       "      <td>0</td>\n",
       "      <td>0</td>\n",
       "      <td>1</td>\n",
       "      <td>0</td>\n",
       "      <td>0</td>\n",
       "      <td>1</td>\n",
       "      <td>0</td>\n",
       "      <td>0</td>\n",
       "      <td>1766241</td>\n",
       "    </tr>\n",
       "    <tr>\n",
       "      <th>4</th>\n",
       "      <td>244000</td>\n",
       "      <td>2.0</td>\n",
       "      <td>522.0</td>\n",
       "      <td>0</td>\n",
       "      <td>2110.0</td>\n",
       "      <td>2110</td>\n",
       "      <td>8</td>\n",
       "      <td>2110</td>\n",
       "      <td>7</td>\n",
       "      <td>5</td>\n",
       "      <td>...</td>\n",
       "      <td>1968</td>\n",
       "      <td>0</td>\n",
       "      <td>0</td>\n",
       "      <td>1</td>\n",
       "      <td>0</td>\n",
       "      <td>0</td>\n",
       "      <td>0</td>\n",
       "      <td>0</td>\n",
       "      <td>0</td>\n",
       "      <td>4452100</td>\n",
       "    </tr>\n",
       "    <tr>\n",
       "      <th>5</th>\n",
       "      <td>189900</td>\n",
       "      <td>2.0</td>\n",
       "      <td>482.0</td>\n",
       "      <td>0</td>\n",
       "      <td>928.0</td>\n",
       "      <td>928</td>\n",
       "      <td>6</td>\n",
       "      <td>1629</td>\n",
       "      <td>5</td>\n",
       "      <td>5</td>\n",
       "      <td>...</td>\n",
       "      <td>1998</td>\n",
       "      <td>0</td>\n",
       "      <td>0</td>\n",
       "      <td>1</td>\n",
       "      <td>0</td>\n",
       "      <td>1</td>\n",
       "      <td>0</td>\n",
       "      <td>0</td>\n",
       "      <td>0</td>\n",
       "      <td>2653641</td>\n",
       "    </tr>\n",
       "  </tbody>\n",
       "</table>\n",
       "<p>5 rows × 29 columns</p>\n",
       "</div>"
      ],
      "text/plain": [
       "    target  feature01  feature02  feature03  feature04  feature05  feature06  \\\n",
       "id                                                                             \n",
       "1   215000        2.0      528.0          0     1080.0       1656          7   \n",
       "2   105000        1.0      730.0          0      882.0        896          5   \n",
       "3   172000        1.0      312.0          0     1329.0       1329          6   \n",
       "4   244000        2.0      522.0          0     2110.0       2110          8   \n",
       "5   189900        2.0      482.0          0      928.0        928          6   \n",
       "\n",
       "    feature07  feature08  feature09  ...  feature23  feature13_green  \\\n",
       "id                                   ...                               \n",
       "1        1656          6          5  ...       1960                0   \n",
       "2         896          5          6  ...       1961                0   \n",
       "3        1329          6          6  ...       1958                0   \n",
       "4        2110          7          5  ...       1968                0   \n",
       "5        1629          5          5  ...       1998                0   \n",
       "\n",
       "    feature13_pink  feature13_red  feature13_yellow  feature16_bad  \\\n",
       "id                                                                   \n",
       "1                0              1                 0              1   \n",
       "2                0              1                 0              1   \n",
       "3                0              1                 0              0   \n",
       "4                0              1                 0              0   \n",
       "5                0              1                 0              1   \n",
       "\n",
       "    feature16_good  feature16_horrible  feature16_okay  feature07_squared  \n",
       "id                                                                         \n",
       "1                0                   0               0            2742336  \n",
       "2                0                   0               0             802816  \n",
       "3                1                   0               0            1766241  \n",
       "4                0                   0               0            4452100  \n",
       "5                0                   0               0            2653641  \n",
       "\n",
       "[5 rows x 29 columns]"
      ]
     },
     "execution_count": 37,
     "metadata": {},
     "output_type": "execute_result"
    }
   ],
   "source": [
    "target_column.head()"
   ]
  },
  {
   "cell_type": "code",
   "execution_count": 38,
   "metadata": {},
   "outputs": [
    {
     "data": {
      "text/plain": [
       "(2930, 29)"
      ]
     },
     "execution_count": 38,
     "metadata": {},
     "output_type": "execute_result"
    }
   ],
   "source": [
    "target_column.shape"
   ]
  },
  {
   "cell_type": "markdown",
   "metadata": {},
   "source": [
    "## Feature Scaling  "
   ]
  },
  {
   "cell_type": "code",
   "execution_count": 40,
   "metadata": {},
   "outputs": [],
   "source": [
    "dummy_features = ['feature13_green', 'feature13_pink', 'feature13_red', 'feature13_yellow',\n",
    "                  'feature16_bad', 'feature16_good', 'feature16_horrible', 'feature16_okay' ]\n",
    "numerical_features =[x for x in target_column.columns if x not in dummy_features+['target']] "
   ]
  },
  {
   "cell_type": "markdown",
   "metadata": {},
   "source": [
    " Applying the scaling operation"
   ]
  },
  {
   "cell_type": "code",
   "execution_count": 43,
   "metadata": {},
   "outputs": [],
   "source": [
    "target_name = 'target'\n",
    "X = target_column.drop('target', axis=1)\n",
    "feature_names = X.columns\n",
    "robust_scaler = RobustScaler() # Prefered to standardization due to existence of outliers\n",
    "X = robust_scaler.fit_transform(X)\n",
    "y = target_column[target_name]"
   ]
  },
  {
   "cell_type": "markdown",
   "metadata": {},
   "source": [
    "### Using SelectKBest"
   ]
  },
  {
   "cell_type": "markdown",
   "metadata": {},
   "source": [
    " For dummy features"
   ]
  },
  {
   "cell_type": "code",
   "execution_count": 46,
   "metadata": {},
   "outputs": [
    {
     "data": {
      "text/html": [
       "<style>#sk-container-id-3 {color: black;background-color: white;}#sk-container-id-3 pre{padding: 0;}#sk-container-id-3 div.sk-toggleable {background-color: white;}#sk-container-id-3 label.sk-toggleable__label {cursor: pointer;display: block;width: 100%;margin-bottom: 0;padding: 0.3em;box-sizing: border-box;text-align: center;}#sk-container-id-3 label.sk-toggleable__label-arrow:before {content: \"▸\";float: left;margin-right: 0.25em;color: #696969;}#sk-container-id-3 label.sk-toggleable__label-arrow:hover:before {color: black;}#sk-container-id-3 div.sk-estimator:hover label.sk-toggleable__label-arrow:before {color: black;}#sk-container-id-3 div.sk-toggleable__content {max-height: 0;max-width: 0;overflow: hidden;text-align: left;background-color: #f0f8ff;}#sk-container-id-3 div.sk-toggleable__content pre {margin: 0.2em;color: black;border-radius: 0.25em;background-color: #f0f8ff;}#sk-container-id-3 input.sk-toggleable__control:checked~div.sk-toggleable__content {max-height: 200px;max-width: 100%;overflow: auto;}#sk-container-id-3 input.sk-toggleable__control:checked~label.sk-toggleable__label-arrow:before {content: \"▾\";}#sk-container-id-3 div.sk-estimator input.sk-toggleable__control:checked~label.sk-toggleable__label {background-color: #d4ebff;}#sk-container-id-3 div.sk-label input.sk-toggleable__control:checked~label.sk-toggleable__label {background-color: #d4ebff;}#sk-container-id-3 input.sk-hidden--visually {border: 0;clip: rect(1px 1px 1px 1px);clip: rect(1px, 1px, 1px, 1px);height: 1px;margin: -1px;overflow: hidden;padding: 0;position: absolute;width: 1px;}#sk-container-id-3 div.sk-estimator {font-family: monospace;background-color: #f0f8ff;border: 1px dotted black;border-radius: 0.25em;box-sizing: border-box;margin-bottom: 0.5em;}#sk-container-id-3 div.sk-estimator:hover {background-color: #d4ebff;}#sk-container-id-3 div.sk-parallel-item::after {content: \"\";width: 100%;border-bottom: 1px solid gray;flex-grow: 1;}#sk-container-id-3 div.sk-label:hover label.sk-toggleable__label {background-color: #d4ebff;}#sk-container-id-3 div.sk-serial::before {content: \"\";position: absolute;border-left: 1px solid gray;box-sizing: border-box;top: 0;bottom: 0;left: 50%;z-index: 0;}#sk-container-id-3 div.sk-serial {display: flex;flex-direction: column;align-items: center;background-color: white;padding-right: 0.2em;padding-left: 0.2em;position: relative;}#sk-container-id-3 div.sk-item {position: relative;z-index: 1;}#sk-container-id-3 div.sk-parallel {display: flex;align-items: stretch;justify-content: center;background-color: white;position: relative;}#sk-container-id-3 div.sk-item::before, #sk-container-id-3 div.sk-parallel-item::before {content: \"\";position: absolute;border-left: 1px solid gray;box-sizing: border-box;top: 0;bottom: 0;left: 50%;z-index: -1;}#sk-container-id-3 div.sk-parallel-item {display: flex;flex-direction: column;z-index: 1;position: relative;background-color: white;}#sk-container-id-3 div.sk-parallel-item:first-child::after {align-self: flex-end;width: 50%;}#sk-container-id-3 div.sk-parallel-item:last-child::after {align-self: flex-start;width: 50%;}#sk-container-id-3 div.sk-parallel-item:only-child::after {width: 0;}#sk-container-id-3 div.sk-dashed-wrapped {border: 1px dashed gray;margin: 0 0.4em 0.5em 0.4em;box-sizing: border-box;padding-bottom: 0.4em;background-color: white;}#sk-container-id-3 div.sk-label label {font-family: monospace;font-weight: bold;display: inline-block;line-height: 1.2em;}#sk-container-id-3 div.sk-label-container {text-align: center;}#sk-container-id-3 div.sk-container {/* jupyter's `normalize.less` sets `[hidden] { display: none; }` but bootstrap.min.css set `[hidden] { display: none !important; }` so we also need the `!important` here to be able to override the default hidden behavior on the sphinx rendered scikit-learn.org. See: https://github.com/scikit-learn/scikit-learn/issues/21755 */display: inline-block !important;position: relative;}#sk-container-id-3 div.sk-text-repr-fallback {display: none;}</style><div id=\"sk-container-id-3\" class=\"sk-top-container\"><div class=\"sk-text-repr-fallback\"><pre>SelectKBest(k=&#x27;all&#x27;, score_func=&lt;function chi2 at 0x00000179D41DE0D0&gt;)</pre><b>In a Jupyter environment, please rerun this cell to show the HTML representation or trust the notebook. <br />On GitHub, the HTML representation is unable to render, please try loading this page with nbviewer.org.</b></div><div class=\"sk-container\" hidden><div class=\"sk-item\"><div class=\"sk-estimator sk-toggleable\"><input class=\"sk-toggleable__control sk-hidden--visually\" id=\"sk-estimator-id-3\" type=\"checkbox\" checked><label for=\"sk-estimator-id-3\" class=\"sk-toggleable__label sk-toggleable__label-arrow\">SelectKBest</label><div class=\"sk-toggleable__content\"><pre>SelectKBest(k=&#x27;all&#x27;, score_func=&lt;function chi2 at 0x00000179D41DE0D0&gt;)</pre></div></div></div></div></div>"
      ],
      "text/plain": [
       "SelectKBest(k='all', score_func=<function chi2 at 0x00000179D41DE0D0>)"
      ]
     },
     "execution_count": 46,
     "metadata": {},
     "output_type": "execute_result"
    }
   ],
   "source": [
    "# Chi-squared for dummy features. \n",
    "dummy_selector = SelectKBest(chi2, k=\"all\") # \"k=all\" means \"apply chi-squared test to all dummy features\".\n",
    "dummy_selector.fit(target_column[dummy_features], target_column[target_name])"
   ]
  },
  {
   "cell_type": "code",
   "execution_count": 47,
   "metadata": {},
   "outputs": [
    {
     "data": {
      "text/plain": [
       "array([ 959.14901208, 1464.        ,   94.89273829, 1262.08764368,\n",
       "        793.43260723,  956.94557333,  731.5       , 1197.10297635])"
      ]
     },
     "execution_count": 47,
     "metadata": {},
     "output_type": "execute_result"
    }
   ],
   "source": [
    "# The larger the score value for Chi-squared, the stronger the relationship between feature and target.\n",
    "dummy_selector.scores_"
   ]
  },
  {
   "cell_type": "code",
   "execution_count": 48,
   "metadata": {},
   "outputs": [
    {
     "data": {
      "text/plain": [
       "0       feature13_green\n",
       "2         feature13_red\n",
       "4         feature16_bad\n",
       "5        feature16_good\n",
       "6    feature16_horrible\n",
       "dtype: object"
      ]
     },
     "execution_count": 48,
     "metadata": {},
     "output_type": "execute_result"
    }
   ],
   "source": [
    "# Dummy features with p-value larger than 0.05 are not related with the target\n",
    "pd.Series(dummy_features).loc[dummy_selector.pvalues_>0.05]"
   ]
  },
  {
   "cell_type": "markdown",
   "metadata": {},
   "source": [
    " For numerical features"
   ]
  },
  {
   "cell_type": "code",
   "execution_count": 49,
   "metadata": {},
   "outputs": [
    {
     "data": {
      "text/html": [
       "<style>#sk-container-id-4 {color: black;background-color: white;}#sk-container-id-4 pre{padding: 0;}#sk-container-id-4 div.sk-toggleable {background-color: white;}#sk-container-id-4 label.sk-toggleable__label {cursor: pointer;display: block;width: 100%;margin-bottom: 0;padding: 0.3em;box-sizing: border-box;text-align: center;}#sk-container-id-4 label.sk-toggleable__label-arrow:before {content: \"▸\";float: left;margin-right: 0.25em;color: #696969;}#sk-container-id-4 label.sk-toggleable__label-arrow:hover:before {color: black;}#sk-container-id-4 div.sk-estimator:hover label.sk-toggleable__label-arrow:before {color: black;}#sk-container-id-4 div.sk-toggleable__content {max-height: 0;max-width: 0;overflow: hidden;text-align: left;background-color: #f0f8ff;}#sk-container-id-4 div.sk-toggleable__content pre {margin: 0.2em;color: black;border-radius: 0.25em;background-color: #f0f8ff;}#sk-container-id-4 input.sk-toggleable__control:checked~div.sk-toggleable__content {max-height: 200px;max-width: 100%;overflow: auto;}#sk-container-id-4 input.sk-toggleable__control:checked~label.sk-toggleable__label-arrow:before {content: \"▾\";}#sk-container-id-4 div.sk-estimator input.sk-toggleable__control:checked~label.sk-toggleable__label {background-color: #d4ebff;}#sk-container-id-4 div.sk-label input.sk-toggleable__control:checked~label.sk-toggleable__label {background-color: #d4ebff;}#sk-container-id-4 input.sk-hidden--visually {border: 0;clip: rect(1px 1px 1px 1px);clip: rect(1px, 1px, 1px, 1px);height: 1px;margin: -1px;overflow: hidden;padding: 0;position: absolute;width: 1px;}#sk-container-id-4 div.sk-estimator {font-family: monospace;background-color: #f0f8ff;border: 1px dotted black;border-radius: 0.25em;box-sizing: border-box;margin-bottom: 0.5em;}#sk-container-id-4 div.sk-estimator:hover {background-color: #d4ebff;}#sk-container-id-4 div.sk-parallel-item::after {content: \"\";width: 100%;border-bottom: 1px solid gray;flex-grow: 1;}#sk-container-id-4 div.sk-label:hover label.sk-toggleable__label {background-color: #d4ebff;}#sk-container-id-4 div.sk-serial::before {content: \"\";position: absolute;border-left: 1px solid gray;box-sizing: border-box;top: 0;bottom: 0;left: 50%;z-index: 0;}#sk-container-id-4 div.sk-serial {display: flex;flex-direction: column;align-items: center;background-color: white;padding-right: 0.2em;padding-left: 0.2em;position: relative;}#sk-container-id-4 div.sk-item {position: relative;z-index: 1;}#sk-container-id-4 div.sk-parallel {display: flex;align-items: stretch;justify-content: center;background-color: white;position: relative;}#sk-container-id-4 div.sk-item::before, #sk-container-id-4 div.sk-parallel-item::before {content: \"\";position: absolute;border-left: 1px solid gray;box-sizing: border-box;top: 0;bottom: 0;left: 50%;z-index: -1;}#sk-container-id-4 div.sk-parallel-item {display: flex;flex-direction: column;z-index: 1;position: relative;background-color: white;}#sk-container-id-4 div.sk-parallel-item:first-child::after {align-self: flex-end;width: 50%;}#sk-container-id-4 div.sk-parallel-item:last-child::after {align-self: flex-start;width: 50%;}#sk-container-id-4 div.sk-parallel-item:only-child::after {width: 0;}#sk-container-id-4 div.sk-dashed-wrapped {border: 1px dashed gray;margin: 0 0.4em 0.5em 0.4em;box-sizing: border-box;padding-bottom: 0.4em;background-color: white;}#sk-container-id-4 div.sk-label label {font-family: monospace;font-weight: bold;display: inline-block;line-height: 1.2em;}#sk-container-id-4 div.sk-label-container {text-align: center;}#sk-container-id-4 div.sk-container {/* jupyter's `normalize.less` sets `[hidden] { display: none; }` but bootstrap.min.css set `[hidden] { display: none !important; }` so we also need the `!important` here to be able to override the default hidden behavior on the sphinx rendered scikit-learn.org. See: https://github.com/scikit-learn/scikit-learn/issues/21755 */display: inline-block !important;position: relative;}#sk-container-id-4 div.sk-text-repr-fallback {display: none;}</style><div id=\"sk-container-id-4\" class=\"sk-top-container\"><div class=\"sk-text-repr-fallback\"><pre>SelectKBest(k=&#x27;all&#x27;)</pre><b>In a Jupyter environment, please rerun this cell to show the HTML representation or trust the notebook. <br />On GitHub, the HTML representation is unable to render, please try loading this page with nbviewer.org.</b></div><div class=\"sk-container\" hidden><div class=\"sk-item\"><div class=\"sk-estimator sk-toggleable\"><input class=\"sk-toggleable__control sk-hidden--visually\" id=\"sk-estimator-id-4\" type=\"checkbox\" checked><label for=\"sk-estimator-id-4\" class=\"sk-toggleable__label sk-toggleable__label-arrow\">SelectKBest</label><div class=\"sk-toggleable__content\"><pre>SelectKBest(k=&#x27;all&#x27;)</pre></div></div></div></div></div>"
      ],
      "text/plain": [
       "SelectKBest(k='all')"
      ]
     },
     "execution_count": 49,
     "metadata": {},
     "output_type": "execute_result"
    }
   ],
   "source": [
    "# ANOVA F-value between features for classification tasks\n",
    "numeric_selector = SelectKBest(f_classif, k=\"all\") # \"k=all\" means \"apply F-value test to all numeric features\".\n",
    "numeric_selector.fit(target_column[numerical_features], target_column[target_name])"
   ]
  },
  {
   "cell_type": "code",
   "execution_count": 50,
   "metadata": {},
   "outputs": [
    {
     "data": {
      "text/plain": [
       "2     feature03\n",
       "13    feature18\n",
       "14    feature19\n",
       "dtype: object"
      ]
     },
     "execution_count": 50,
     "metadata": {},
     "output_type": "execute_result"
    }
   ],
   "source": [
    "# Numerical features with p-value larger than 0.05 are not related with the target\n",
    "pd.Series(numerical_features).loc[numeric_selector.pvalues_>0.05]"
   ]
  },
  {
   "cell_type": "markdown",
   "metadata": {},
   "source": [
    "### Using Recursive Feature Elimination"
   ]
  },
  {
   "cell_type": "markdown",
   "metadata": {},
   "source": [
    "Select features by recursively considering smaller and smaller sets of features."
   ]
  },
  {
   "cell_type": "code",
   "execution_count": 53,
   "metadata": {},
   "outputs": [
    {
     "name": "stdout",
     "output_type": "stream",
     "text": [
      "Number of featues: 28\n"
     ]
    }
   ],
   "source": [
    "print(\"Number of featues:\", X.shape[1])"
   ]
  },
  {
   "cell_type": "code",
   "execution_count": 54,
   "metadata": {},
   "outputs": [],
   "source": [
    "RF = RandomForestClassifier(n_estimators=100, max_depth=20, max_features='auto',\n",
    "                            random_state=55, n_jobs=-1)"
   ]
  },
  {
   "cell_type": "code",
   "execution_count": 55,
   "metadata": {},
   "outputs": [],
   "source": [
    "recursive_selector = RFE(estimator=RF, n_features_to_select=16)"
   ]
  },
  {
   "cell_type": "code",
   "execution_count": 60,
   "metadata": {},
   "outputs": [],
   "source": [
    "recursive_selector = recursive_selector.fit(X, y)"
   ]
  },
  {
   "cell_type": "code",
   "execution_count": 61,
   "metadata": {},
   "outputs": [
    {
     "data": {
      "text/plain": [
       "array([ True,  True, False,  True,  True,  True,  True,  True,  True,\n",
       "        True, False,  True,  True, False,  True,  True, False,  True,\n",
       "        True, False, False, False, False, False, False, False, False,\n",
       "        True])"
      ]
     },
     "execution_count": 61,
     "metadata": {},
     "output_type": "execute_result"
    }
   ],
   "source": [
    "recursive_selector.support_"
   ]
  },
  {
   "cell_type": "code",
   "execution_count": 63,
   "metadata": {},
   "outputs": [
    {
     "name": "stdout",
     "output_type": "stream",
     "text": [
      "16 most important features:\n",
      "feature01\n",
      "feature02\n",
      "feature04\n",
      "feature05\n",
      "feature06\n",
      "feature07\n",
      "feature08\n",
      "feature09\n",
      "feature10\n",
      "feature14\n",
      "feature17\n",
      "feature19\n",
      "feature20\n",
      "feature22\n",
      "feature23\n",
      "feature07_squared\n"
     ]
    }
   ],
   "source": [
    "print('16 most important features:')\n",
    "for x in feature_names[recursive_selector.support_]:\n",
    "    print(x)"
   ]
  },
  {
   "cell_type": "code",
   "execution_count": 64,
   "metadata": {},
   "outputs": [
    {
     "name": "stdout",
     "output_type": "stream",
     "text": [
      "Features to eliminate:\n",
      "feature03\n",
      "feature10.1\n",
      "feature18\n",
      "feature21\n",
      "feature13_green\n",
      "feature13_pink\n",
      "feature13_red\n",
      "feature13_yellow\n",
      "feature16_bad\n",
      "feature16_good\n",
      "feature16_horrible\n",
      "feature16_okay\n"
     ]
    }
   ],
   "source": [
    "print('Features to eliminate:')\n",
    "for x in feature_names[~recursive_selector.support_]:\n",
    "    print(x)"
   ]
  },
  {
   "cell_type": "markdown",
   "metadata": {},
   "source": [
    "### Apply log transformation onthe target to handel for outliers"
   ]
  },
  {
   "cell_type": "code",
   "execution_count": 65,
   "metadata": {},
   "outputs": [],
   "source": [
    "target_column['target'] = np.log(target_column['target'])"
   ]
  },
  {
   "cell_type": "code",
   "execution_count": 66,
   "metadata": {},
   "outputs": [
    {
     "data": {
      "image/png": "[encoded data removed]",
      "text/plain": [
       "<Figure size 1152x504 with 2 Axes>"
      ]
     },
     "metadata": {
      "needs_background": "light"
     },
     "output_type": "display_data"
    }
   ],
   "source": [
    "#distribution plot and box plots to check for outliers\n",
    "fig, axes = plt.subplots(nrows=1, ncols=2, figsize=(16, 7))\n",
    "sns.distplot(ax=axes[0], a=target_column['target']);\n",
    "sns.boxplot(ax=axes[1], x=target_column['target']);"
   ]
  },
  {
   "cell_type": "markdown",
   "metadata": {},
   "source": [
    "# Building models "
   ]
  },
  {
   "cell_type": "markdown",
   "metadata": {},
   "source": [
    "### Preparing a DataFrame for model analysis"
   ]
  },
  {
   "cell_type": "code",
   "execution_count": 275,
   "metadata": {},
   "outputs": [],
   "source": [
    "Model_mean = pd.DataFrame(index=['train_mse', 'test_mse'], columns=['NULL', 'MLR', 'KNN', 'LASSO'])\n",
    "Model_r = pd.DataFrame(index=['train_R2', 'test_R2', 'train_explained_variance', 'test_explained_variance'], columns=['NULL', 'MLR', 'KNN', 'LASSO'])"
   ]
  },
  {
   "cell_type": "markdown",
   "metadata": {},
   "source": [
    "# Making predictions with selected 16 features "
   ]
  },
  {
   "cell_type": "markdown",
   "metadata": {},
   "source": [
    "#### Getting the train and test sets using selected 16 features "
   ]
  },
  {
   "cell_type": "code",
   "execution_count": 276,
   "metadata": {},
   "outputs": [],
   "source": [
    "target_name = 'target'\n",
    "X = target_column[feature_names[recursive_selector.support_]]\n",
    "\n",
    "#Apply robust scaling to explanatory features to reduce outliers\n",
    "robust_scaler = RobustScaler()\n",
    "X = robust_scaler.fit_transform(X)  # x_new=x-median(data)/(Q3-Q1)\n",
    "\n",
    "y = target_column[target_name]\n",
    "x_train, x_test, y_train, y_test = train_test_split(X, y, test_size=0.2, random_state=23)"
   ]
  },
  {
   "cell_type": "markdown",
   "metadata": {},
   "source": [
    "## The Null model: predicts the average of the target"
   ]
  },
  {
   "cell_type": "code",
   "execution_count": 277,
   "metadata": {},
   "outputs": [],
   "source": [
    "y_pred_null = y_train.mean()\n",
    "\n",
    "Model_mean.loc['train_mse','NULL'] = mean_squared_error(y_pred=np.repeat(y_pred_null, y_train.size), y_true=y_train)\n",
    "Model_mean.loc['test_mse','NULL'] = mean_squared_error(y_pred=np.repeat(y_pred_null, y_test.size), y_true=y_test)\n",
    "Model_r.loc['train_R2','NULL'] = r2_score(y_pred=np.repeat(y_pred_null, y_train.size), y_true=y_train)\n",
    "Model_r.loc['test_R2','NULL'] = r2_score(y_pred=np.repeat(y_pred_null, y_test.size), y_true=y_test)\n",
    "Model_r.loc['train_explained_variance','NULL'] = explained_variance_score(y_pred=np.repeat(y_pred_null, y_train.size), y_true=y_train)\n",
    "Model_r.loc['test_explained_variance','NULL'] = explained_variance_score(y_pred=np.repeat(y_pred_null, y_test.size), y_true=y_test)"
   ]
  },
  {
   "cell_type": "markdown",
   "metadata": {},
   "source": [
    "## Multiple Linear Regression"
   ]
  },
  {
   "cell_type": "code",
   "execution_count": 278,
   "metadata": {},
   "outputs": [],
   "source": [
    "# 1. Import the estimator object (model)\n",
    "from sklearn.linear_model import LinearRegression\n",
    "# 2. Create an instance of the estimator\n",
    "linear_regression = LinearRegression()\n",
    "# 3. Use the trainning data to train the estimator\n",
    "linear_regression.fit(x_train, y_train)\n",
    "# 4. Evaluate the model\n",
    "Model_mean.loc['train_mse','MLR'] = mean_squared_error(y_pred=linear_regression.predict(x_train), y_true=y_train)\n",
    "Model_mean.loc['test_mse','MLR'] = mean_squared_error(y_pred=linear_regression.predict(x_test), y_true=y_test)\n",
    "Model_r.loc['train_R2','MLR'] = r2_score(y_pred=linear_regression.predict(x_train), y_true=y_train)\n",
    "Model_r.loc['test_R2','MLR'] = r2_score(y_pred=linear_regression.predict(x_test), y_true=y_test)\n",
    "Model_r.loc['train_explained_variance','MLR'] = explained_variance_score(y_pred=linear_regression.predict(x_train), y_true=y_train)\n",
    "Model_r.loc['test_explained_variance','MLR'] = explained_variance_score(y_pred=linear_regression.predict(x_test), y_true=y_test)"
   ]
  },
  {
   "cell_type": "markdown",
   "metadata": {},
   "source": [
    "## K-Nearest Neighbor Model"
   ]
  },
  {
   "cell_type": "code",
   "execution_count": 279,
   "metadata": {},
   "outputs": [],
   "source": [
    "# 1. Import the estimator object (model)\n",
    "from sklearn.neighbors import KNeighborsRegressor\n",
    "# 2. Create an instance of the estimator\n",
    "knn = KNeighborsRegressor(n_neighbors=10, weights='distance', metric='euclidean', n_jobs=-1)\n",
    "# 3. Use the training data to train the estimator\n",
    "knn.fit(x_train, y_train)\n",
    "# 4. Evaluate the model\n",
    "Model_mean.loc['train_mse','KNN'] = mean_squared_error(y_pred=knn.predict(x_train), y_true=y_train)\n",
    "Model_mean.loc['test_mse','KNN'] = mean_squared_error(y_pred=knn.predict(x_test), y_true=y_test)\n",
    "Model_r.loc['train_R2','KNN'] = r2_score(y_pred=knn.predict(x_train), y_true=y_train)\n",
    "Model_r.loc['test_R2','KNN'] = r2_score(y_pred=knn.predict(x_test), y_true=y_test)\n",
    "Model_r.loc['train_explained_variance','KNN'] = explained_variance_score(y_pred=knn.predict(x_train), y_true=y_train)\n",
    "Model_r.loc['test_explained_variance','KNN'] = explained_variance_score(y_pred=knn.predict(x_test), y_true=y_test)"
   ]
  },
  {
   "cell_type": "markdown",
   "metadata": {},
   "source": [
    "## Lasso"
   ]
  },
  {
   "cell_type": "code",
   "execution_count": 280,
   "metadata": {},
   "outputs": [],
   "source": [
    "# 1. Import the estimator object (model)\n",
    "from sklearn.linear_model import Lasso\n",
    "# 2. Create an instance of the estimator\n",
    "lasso = Lasso(alpha=0.05)\n",
    "# 3. Use the training data to train the estimator\n",
    "lasso.fit(x_train, y_train)\n",
    "# 4. Evaluate the model\n",
    "Model_mean.loc['train_mse','LASSO'] = mean_squared_error(y_pred=lasso.predict(x_train), y_true=y_train)\n",
    "Model_mean.loc['test_mse','LASSO'] = mean_squared_error(y_pred=lasso.predict(x_test), y_true=y_test)\n",
    "Model_r.loc['train_R2','LASSO'] = r2_score(y_pred=lasso.predict(x_train), y_true=y_train)\n",
    "Model_r.loc['test_R2','LASSO'] = r2_score(y_pred=lasso.predict(x_test), y_true=y_test)\n",
    "Model_r.loc['train_explained_variance','LASSO'] = explained_variance_score(y_pred=lasso.predict(x_train), y_true=y_train)\n",
    "Model_r.loc['test_explained_variance','LASSO'] = explained_variance_score(y_pred=lasso.predict(x_test), y_true=y_test)"
   ]
  },
  {
   "cell_type": "code",
   "execution_count": 281,
   "metadata": {},
   "outputs": [
    {
     "data": {
      "text/html": [
       "<div>\n",
       "<style scoped>\n",
       "    .dataframe tbody tr th:only-of-type {\n",
       "        vertical-align: middle;\n",
       "    }\n",
       "\n",
       "    .dataframe tbody tr th {\n",
       "        vertical-align: top;\n",
       "    }\n",
       "\n",
       "    .dataframe thead th {\n",
       "        text-align: right;\n",
       "    }\n",
       "</style>\n",
       "<table border=\"1\" class=\"dataframe\">\n",
       "  <thead>\n",
       "    <tr style=\"text-align: right;\">\n",
       "      <th></th>\n",
       "      <th>NULL</th>\n",
       "      <th>MLR</th>\n",
       "      <th>KNN</th>\n",
       "      <th>LASSO</th>\n",
       "    </tr>\n",
       "  </thead>\n",
       "  <tbody>\n",
       "    <tr>\n",
       "      <th>train_mse</th>\n",
       "      <td>0.165629</td>\n",
       "      <td>0.020695</td>\n",
       "      <td>0.000002</td>\n",
       "      <td>0.036287</td>\n",
       "    </tr>\n",
       "    <tr>\n",
       "      <th>test_mse</th>\n",
       "      <td>0.167917</td>\n",
       "      <td>0.025511</td>\n",
       "      <td>0.024366</td>\n",
       "      <td>0.044531</td>\n",
       "    </tr>\n",
       "  </tbody>\n",
       "</table>\n",
       "</div>"
      ],
      "text/plain": [
       "               NULL       MLR       KNN     LASSO\n",
       "train_mse  0.165629  0.020695  0.000002  0.036287\n",
       "test_mse   0.167917  0.025511  0.024366  0.044531"
      ]
     },
     "execution_count": 281,
     "metadata": {},
     "output_type": "execute_result"
    }
   ],
   "source": [
    "Model_mean"
   ]
  },
  {
   "cell_type": "code",
   "execution_count": 282,
   "metadata": {},
   "outputs": [
    {
     "data": {
      "image/png": "[encoded data removed]",
      "text/plain": [
       "<Figure size 504x360 with 1 Axes>"
      ]
     },
     "metadata": {
      "needs_background": "light"
     },
     "output_type": "display_data"
    }
   ],
   "source": [
    "fig, ax = plt.subplots(figsize=(7,5))\n",
    "Model_mean.T.plot(kind='barh', ax=ax)\n",
    "ax.set_title('Mean error metrices for Regression Models');"
   ]
  },
  {
   "cell_type": "code",
   "execution_count": 283,
   "metadata": {},
   "outputs": [
    {
     "data": {
      "text/html": [
       "<div>\n",
       "<style scoped>\n",
       "    .dataframe tbody tr th:only-of-type {\n",
       "        vertical-align: middle;\n",
       "    }\n",
       "\n",
       "    .dataframe tbody tr th {\n",
       "        vertical-align: top;\n",
       "    }\n",
       "\n",
       "    .dataframe thead th {\n",
       "        text-align: right;\n",
       "    }\n",
       "</style>\n",
       "<table border=\"1\" class=\"dataframe\">\n",
       "  <thead>\n",
       "    <tr style=\"text-align: right;\">\n",
       "      <th></th>\n",
       "      <th>NULL</th>\n",
       "      <th>MLR</th>\n",
       "      <th>KNN</th>\n",
       "      <th>LASSO</th>\n",
       "    </tr>\n",
       "  </thead>\n",
       "  <tbody>\n",
       "    <tr>\n",
       "      <th>train_R2</th>\n",
       "      <td>0.0</td>\n",
       "      <td>0.875052</td>\n",
       "      <td>0.999985</td>\n",
       "      <td>0.780911</td>\n",
       "    </tr>\n",
       "    <tr>\n",
       "      <th>test_R2</th>\n",
       "      <td>-0.002388</td>\n",
       "      <td>0.847712</td>\n",
       "      <td>0.854543</td>\n",
       "      <td>0.734167</td>\n",
       "    </tr>\n",
       "    <tr>\n",
       "      <th>train_explained_variance</th>\n",
       "      <td>0.0</td>\n",
       "      <td>0.875052</td>\n",
       "      <td>0.999985</td>\n",
       "      <td>0.780911</td>\n",
       "    </tr>\n",
       "    <tr>\n",
       "      <th>test_explained_variance</th>\n",
       "      <td>0.0</td>\n",
       "      <td>0.848561</td>\n",
       "      <td>0.856709</td>\n",
       "      <td>0.736897</td>\n",
       "    </tr>\n",
       "  </tbody>\n",
       "</table>\n",
       "</div>"
      ],
      "text/plain": [
       "                              NULL       MLR       KNN     LASSO\n",
       "train_R2                       0.0  0.875052  0.999985  0.780911\n",
       "test_R2                  -0.002388  0.847712  0.854543  0.734167\n",
       "train_explained_variance       0.0  0.875052  0.999985  0.780911\n",
       "test_explained_variance        0.0  0.848561  0.856709  0.736897"
      ]
     },
     "execution_count": 283,
     "metadata": {},
     "output_type": "execute_result"
    }
   ],
   "source": [
    "Model_r"
   ]
  },
  {
   "cell_type": "code",
   "execution_count": 284,
   "metadata": {},
   "outputs": [
    {
     "data": {
      "image/png": "[encoded data removed]",
      "text/plain": [
       "<Figure size 504x360 with 1 Axes>"
      ]
     },
     "metadata": {
      "needs_background": "light"
     },
     "output_type": "display_data"
    }
   ],
   "source": [
    "fig, ax = plt.subplots(figsize=(7,5))\n",
    "Model_r.T.plot(kind='barh', ax=ax)\n",
    "ax.set_title('Error metrics for Regression Models');"
   ]
  },
  {
   "cell_type": "code",
   "execution_count": 285,
   "metadata": {},
   "outputs": [
    {
     "data": {
      "image/png": "[encoded data removed]",
      "text/plain": [
       "<Figure size 504x360 with 1 Axes>"
      ]
     },
     "metadata": {
      "needs_background": "light"
     },
     "output_type": "display_data"
    }
   ],
   "source": [
    "fig, ax = plt.subplots(figsize=(7,5))\n",
    "ax.scatter(knn.predict(x_train), y_train, s=4)\n",
    "ax.plot(y_train, y_train, color='red')\n",
    "ax.set_title('KNN: predictions vs. observed values (train data)')\n",
    "ax.set_xlabel('Predicted target')\n",
    "ax.set_ylabel('Observed target');"
   ]
  },
  {
   "cell_type": "code",
   "execution_count": 286,
   "metadata": {},
   "outputs": [
    {
     "data": {
      "image/png": "[encoded data removed]",
      "text/plain": [
       "<Figure size 504x360 with 1 Axes>"
      ]
     },
     "metadata": {
      "needs_background": "light"
     },
     "output_type": "display_data"
    }
   ],
   "source": [
    "fig, ax = plt.subplots(figsize=(7,5))\n",
    "ax.scatter(knn.predict(x_test), y_test, s=4)\n",
    "ax.plot(y_test, y_test, color='red')\n",
    "ax.set_title('KNN: predictions vs. observed values (test data)')\n",
    "ax.set_xlabel('Predicted target')\n",
    "ax.set_ylabel('Observed target');"
   ]
  },
  {
   "cell_type": "markdown",
   "metadata": {},
   "source": [
    "# Making predictions with all eatures "
   ]
  },
  {
   "cell_type": "markdown",
   "metadata": {},
   "source": [
    "#### Getting the train and test sets using all features "
   ]
  },
  {
   "cell_type": "code",
   "execution_count": 288,
   "metadata": {},
   "outputs": [],
   "source": [
    "target_name = 'target'\n",
    "X = target_column.drop(target_name, axis=1)\n",
    "\n",
    "#Apply robust scaling to explanatory features to reduce outliers\n",
    "robust_scaler = RobustScaler()\n",
    "X = robust_scaler.fit_transform(X)  # x_new=x-median(data)/(Q3-Q1)\n",
    "\n",
    "y = target_column[target_name]\n",
    "x_train, x_test, y_train, y_test = train_test_split(X, y, test_size=0.2, random_state=23)"
   ]
  },
  {
   "cell_type": "markdown",
   "metadata": {},
   "source": [
    "## The Null model: predicts the average of the target"
   ]
  },
  {
   "cell_type": "code",
   "execution_count": 289,
   "metadata": {},
   "outputs": [],
   "source": [
    "y_pred_null = y_train.mean()\n",
    "\n",
    "Model_mean.loc['train_mse','NULL'] = mean_squared_error(y_pred=np.repeat(y_pred_null, y_train.size), y_true=y_train)\n",
    "Model_mean.loc['test_mse','NULL'] = mean_squared_error(y_pred=np.repeat(y_pred_null, y_test.size), y_true=y_test)\n",
    "Model_r.loc['train_R2','NULL'] = r2_score(y_pred=np.repeat(y_pred_null, y_train.size), y_true=y_train)\n",
    "Model_r.loc['test_R2','NULL'] = r2_score(y_pred=np.repeat(y_pred_null, y_test.size), y_true=y_test)\n",
    "Model_r.loc['train_explained_variance','NULL'] = explained_variance_score(y_pred=np.repeat(y_pred_null, y_train.size), y_true=y_train)\n",
    "Model_r.loc['test_explained_variance','NULL'] = explained_variance_score(y_pred=np.repeat(y_pred_null, y_test.size), y_true=y_test)"
   ]
  },
  {
   "cell_type": "markdown",
   "metadata": {},
   "source": [
    "## Multiple Linear Regression"
   ]
  },
  {
   "cell_type": "code",
   "execution_count": 290,
   "metadata": {},
   "outputs": [],
   "source": [
    "# 1. Import the estimator object (model)\n",
    "from sklearn.linear_model import LinearRegression\n",
    "# 2. Create an instance of the estimator\n",
    "linear_regression = LinearRegression()\n",
    "# 3. Use the trainning data to train the estimator\n",
    "linear_regression.fit(x_train, y_train)\n",
    "# 4. Evaluate the model\n",
    "Model_mean.loc['train_mse','MLR'] = mean_squared_error(y_pred=linear_regression.predict(x_train), y_true=y_train)\n",
    "Model_mean.loc['test_mse','MLR'] = mean_squared_error(y_pred=linear_regression.predict(x_test), y_true=y_test)\n",
    "Model_r.loc['train_R2','MLR'] = r2_score(y_pred=linear_regression.predict(x_train), y_true=y_train)\n",
    "Model_r.loc['test_R2','MLR'] = r2_score(y_pred=linear_regression.predict(x_test), y_true=y_test)\n",
    "Model_r.loc['train_explained_variance','MLR'] = explained_variance_score(y_pred=linear_regression.predict(x_train), y_true=y_train)\n",
    "Model_r.loc['test_explained_variance','MLR'] = explained_variance_score(y_pred=linear_regression.predict(x_test), y_true=y_test)"
   ]
  },
  {
   "cell_type": "markdown",
   "metadata": {},
   "source": [
    "## K-Nearest Neighbor Model"
   ]
  },
  {
   "cell_type": "code",
   "execution_count": 291,
   "metadata": {},
   "outputs": [],
   "source": [
    "# 1. Import the estimator object (model)\n",
    "from sklearn.neighbors import KNeighborsRegressor\n",
    "# 2. Create an instance of the estimator\n",
    "knn = KNeighborsRegressor(n_neighbors=10, weights='distance', metric='euclidean', n_jobs=-1)\n",
    "# 3. Use the training data to train the estimator\n",
    "knn.fit(x_train, y_train)\n",
    "# 4. Evaluate the model\n",
    "Model_mean.loc['train_mse','KNN'] = mean_squared_error(y_pred=knn.predict(x_train), y_true=y_train)\n",
    "Model_mean.loc['test_mse','KNN'] = mean_squared_error(y_pred=knn.predict(x_test), y_true=y_test)\n",
    "Model_r.loc['train_R2','KNN'] = r2_score(y_pred=knn.predict(x_train), y_true=y_train)\n",
    "Model_r.loc['test_R2','KNN'] = r2_score(y_pred=knn.predict(x_test), y_true=y_test)\n",
    "Model_r.loc['train_explained_variance','KNN'] = explained_variance_score(y_pred=knn.predict(x_train), y_true=y_train)\n",
    "Model_r.loc['test_explained_variance','KNN'] = explained_variance_score(y_pred=knn.predict(x_test), y_true=y_test)"
   ]
  },
  {
   "cell_type": "markdown",
   "metadata": {},
   "source": [
    "## Lasso"
   ]
  },
  {
   "cell_type": "code",
   "execution_count": 292,
   "metadata": {},
   "outputs": [],
   "source": [
    "# 1. Import the estimator object (model)\n",
    "from sklearn.linear_model import Lasso\n",
    "# 2. Create an instance of the estimator\n",
    "lasso = Lasso(alpha=0.05)\n",
    "# 3. Use the training data to train the estimator\n",
    "lasso.fit(x_train, y_train)\n",
    "# 4. Evaluate the model\n",
    "Model_mean.loc['train_mse','LASSO'] = mean_squared_error(y_pred=lasso.predict(x_train), y_true=y_train)\n",
    "Model_mean.loc['test_mse','LASSO'] = mean_squared_error(y_pred=lasso.predict(x_test), y_true=y_test)\n",
    "Model_r.loc['train_R2','LASSO'] = r2_score(y_pred=lasso.predict(x_train), y_true=y_train)\n",
    "Model_r.loc['test_R2','LASSO'] = r2_score(y_pred=lasso.predict(x_test), y_true=y_test)\n",
    "Model_r.loc['train_explained_variance','LASSO'] = explained_variance_score(y_pred=lasso.predict(x_train), y_true=y_train)\n",
    "Model_r.loc['test_explained_variance','LASSO'] = explained_variance_score(y_pred=lasso.predict(x_test), y_true=y_test)"
   ]
  },
  {
   "cell_type": "code",
   "execution_count": 293,
   "metadata": {},
   "outputs": [
    {
     "data": {
      "text/html": [
       "<div>\n",
       "<style scoped>\n",
       "    .dataframe tbody tr th:only-of-type {\n",
       "        vertical-align: middle;\n",
       "    }\n",
       "\n",
       "    .dataframe tbody tr th {\n",
       "        vertical-align: top;\n",
       "    }\n",
       "\n",
       "    .dataframe thead th {\n",
       "        text-align: right;\n",
       "    }\n",
       "</style>\n",
       "<table border=\"1\" class=\"dataframe\">\n",
       "  <thead>\n",
       "    <tr style=\"text-align: right;\">\n",
       "      <th></th>\n",
       "      <th>NULL</th>\n",
       "      <th>MLR</th>\n",
       "      <th>KNN</th>\n",
       "      <th>LASSO</th>\n",
       "    </tr>\n",
       "  </thead>\n",
       "  <tbody>\n",
       "    <tr>\n",
       "      <th>train_mse</th>\n",
       "      <td>0.165629</td>\n",
       "      <td>0.019701</td>\n",
       "      <td>0.000002</td>\n",
       "      <td>0.036225</td>\n",
       "    </tr>\n",
       "    <tr>\n",
       "      <th>test_mse</th>\n",
       "      <td>0.167917</td>\n",
       "      <td>0.023745</td>\n",
       "      <td>0.0225</td>\n",
       "      <td>0.045008</td>\n",
       "    </tr>\n",
       "  </tbody>\n",
       "</table>\n",
       "</div>"
      ],
      "text/plain": [
       "               NULL       MLR       KNN     LASSO\n",
       "train_mse  0.165629  0.019701  0.000002  0.036225\n",
       "test_mse   0.167917  0.023745    0.0225  0.045008"
      ]
     },
     "execution_count": 293,
     "metadata": {},
     "output_type": "execute_result"
    }
   ],
   "source": [
    "Model_mean"
   ]
  },
  {
   "cell_type": "code",
   "execution_count": 294,
   "metadata": {},
   "outputs": [
    {
     "data": {
      "image/png": "[encoded data removed]",
      "text/plain": [
       "<Figure size 504x360 with 1 Axes>"
      ]
     },
     "metadata": {
      "needs_background": "light"
     },
     "output_type": "display_data"
    }
   ],
   "source": [
    "fig, ax = plt.subplots(figsize=(7,5))\n",
    "Model_mean.T.plot(kind='barh', ax=ax)\n",
    "ax.set_title('Mean error metrices for Regression Models');"
   ]
  },
  {
   "cell_type": "code",
   "execution_count": 295,
   "metadata": {},
   "outputs": [
    {
     "data": {
      "text/html": [
       "<div>\n",
       "<style scoped>\n",
       "    .dataframe tbody tr th:only-of-type {\n",
       "        vertical-align: middle;\n",
       "    }\n",
       "\n",
       "    .dataframe tbody tr th {\n",
       "        vertical-align: top;\n",
       "    }\n",
       "\n",
       "    .dataframe thead th {\n",
       "        text-align: right;\n",
       "    }\n",
       "</style>\n",
       "<table border=\"1\" class=\"dataframe\">\n",
       "  <thead>\n",
       "    <tr style=\"text-align: right;\">\n",
       "      <th></th>\n",
       "      <th>NULL</th>\n",
       "      <th>MLR</th>\n",
       "      <th>KNN</th>\n",
       "      <th>LASSO</th>\n",
       "    </tr>\n",
       "  </thead>\n",
       "  <tbody>\n",
       "    <tr>\n",
       "      <th>train_R2</th>\n",
       "      <td>0.0</td>\n",
       "      <td>0.881056</td>\n",
       "      <td>0.999985</td>\n",
       "      <td>0.781288</td>\n",
       "    </tr>\n",
       "    <tr>\n",
       "      <th>test_R2</th>\n",
       "      <td>-0.002388</td>\n",
       "      <td>0.858254</td>\n",
       "      <td>0.865688</td>\n",
       "      <td>0.731324</td>\n",
       "    </tr>\n",
       "    <tr>\n",
       "      <th>train_explained_variance</th>\n",
       "      <td>0.0</td>\n",
       "      <td>0.881056</td>\n",
       "      <td>0.999985</td>\n",
       "      <td>0.781288</td>\n",
       "    </tr>\n",
       "    <tr>\n",
       "      <th>test_explained_variance</th>\n",
       "      <td>0.0</td>\n",
       "      <td>0.859028</td>\n",
       "      <td>0.866689</td>\n",
       "      <td>0.734077</td>\n",
       "    </tr>\n",
       "  </tbody>\n",
       "</table>\n",
       "</div>"
      ],
      "text/plain": [
       "                              NULL       MLR       KNN     LASSO\n",
       "train_R2                       0.0  0.881056  0.999985  0.781288\n",
       "test_R2                  -0.002388  0.858254  0.865688  0.731324\n",
       "train_explained_variance       0.0  0.881056  0.999985  0.781288\n",
       "test_explained_variance        0.0  0.859028  0.866689  0.734077"
      ]
     },
     "execution_count": 295,
     "metadata": {},
     "output_type": "execute_result"
    }
   ],
   "source": [
    "Model_r"
   ]
  },
  {
   "cell_type": "code",
   "execution_count": 296,
   "metadata": {},
   "outputs": [
    {
     "data": {
      "image/png": "[encoded data removed]",
      "text/plain": [
       "<Figure size 504x360 with 1 Axes>"
      ]
     },
     "metadata": {
      "needs_background": "light"
     },
     "output_type": "display_data"
    }
   ],
   "source": [
    "fig, ax = plt.subplots(figsize=(7,5))\n",
    "Model_r.T.plot(kind='barh', ax=ax)\n",
    "ax.set_title('Error metrics for Regression Models');"
   ]
  },
  {
   "cell_type": "code",
   "execution_count": 297,
   "metadata": {},
   "outputs": [
    {
     "data": {
      "image/png": "[encoded data removed]",
      "text/plain": [
       "<Figure size 504x360 with 1 Axes>"
      ]
     },
     "metadata": {
      "needs_background": "light"
     },
     "output_type": "display_data"
    }
   ],
   "source": [
    "fig, ax = plt.subplots(figsize=(7,5))\n",
    "ax.scatter(knn.predict(x_train), y_train, s=4)\n",
    "ax.plot(y_train, y_train, color='red')\n",
    "ax.set_title('KNN: predictions vs. observed values (train data)')\n",
    "ax.set_xlabel('Predicted target')\n",
    "ax.set_ylabel('Observed target');"
   ]
  },
  {
   "cell_type": "code",
   "execution_count": 298,
   "metadata": {},
   "outputs": [
    {
     "data": {
      "image/png": "[encoded data removed]",
      "text/plain": [
       "<Figure size 504x360 with 1 Axes>"
      ]
     },
     "metadata": {
      "needs_background": "light"
     },
     "output_type": "display_data"
    }
   ],
   "source": [
    "fig, ax = plt.subplots(figsize=(7,5))\n",
    "ax.scatter(knn.predict(x_test), y_test, s=4)\n",
    "ax.plot(y_test, y_test, color='red')\n",
    "ax.set_title('KNN: predictions vs. observed values (test data)')\n",
    "ax.set_xlabel('Predicted target')\n",
    "ax.set_ylabel('Observed target');"
   ]
  },
  {
   "cell_type": "markdown",
   "metadata": {},
   "source": [
    "### Reflection "
   ]
  },
  {
   "cell_type": "markdown",
   "metadata": {},
   "source": [
    "Referencing the above tables (results) one can observe that KNN model provides relatively lower MSE and the higher R-square/and explained_variance for both the train & test features when predicting the model using all features.\n",
    "\n",
    "While prediction is made by the selected 16 features, still KNN performed better with few exceptions(i.e. MLE yields slightly higher R_Square value for the test feature).\n",
    "\n",
    "Hence, one can conclude that KNN is the best model among the other three for predicting the target. "
   ]
  }
 ],
 "metadata": {
  "kernelspec": {
   "display_name": "Python 3.9.12 ('base')",
   "language": "python",
   "name": "python3"
  },
  "language_info": {
   "codemirror_mode": {
    "name": "ipython",
    "version": 3
   },
   "file_extension": ".py",
   "mimetype": "text/x-python",
   "name": "python",
   "nbconvert_exporter": "python",
   "pygments_lexer": "ipython3",
   "version": "3.9.12"
  },
  "orig_nbformat": 4,
  "vscode": {
   "interpreter": {
    "hash": "77fc87c6222eb0d5442d7426cf6d325b1e6f9f529e2a41000bbfc9b477d4e968"
   }
  }
 },
 "nbformat": 4,
 "nbformat_minor": 2
}
